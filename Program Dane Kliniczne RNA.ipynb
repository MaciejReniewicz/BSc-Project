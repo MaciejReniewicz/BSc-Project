{
 "cells": [
  {
   "cell_type": "code",
   "execution_count": 1,
   "metadata": {},
   "outputs": [],
   "source": [
    "import pandas as pd\n",
    "import numpy as np"
   ]
  },
  {
   "cell_type": "code",
   "execution_count": 2,
   "metadata": {},
   "outputs": [],
   "source": [
    "df =  pd.read_csv(\"set.RNA.clinical.all.csv\",sep = ';',decimal=',')\n",
    "df = df.rename(columns = {'Unnamed: 0':'PatientID'})\n",
    "#vital status, patologic stage, gender, radiotion teraphy, histological type, race\n",
    "df = df[['PatientID','vitalstatus','pathologicstage','gender','radiationtherapy','histologicaltype','race']]"
   ]
  },
  {
   "cell_type": "code",
   "execution_count": 3,
   "metadata": {},
   "outputs": [
    {
     "data": {
      "text/html": [
       "<div>\n",
       "<style scoped>\n",
       "    .dataframe tbody tr th:only-of-type {\n",
       "        vertical-align: middle;\n",
       "    }\n",
       "\n",
       "    .dataframe tbody tr th {\n",
       "        vertical-align: top;\n",
       "    }\n",
       "\n",
       "    .dataframe thead th {\n",
       "        text-align: right;\n",
       "    }\n",
       "</style>\n",
       "<table border=\"1\" class=\"dataframe\">\n",
       "  <thead>\n",
       "    <tr style=\"text-align: right;\">\n",
       "      <th></th>\n",
       "      <th>PatientID</th>\n",
       "      <th>vitalstatus</th>\n",
       "      <th>pathologicstage</th>\n",
       "      <th>gender</th>\n",
       "      <th>radiationtherapy</th>\n",
       "      <th>histologicaltype</th>\n",
       "      <th>race</th>\n",
       "    </tr>\n",
       "  </thead>\n",
       "  <tbody>\n",
       "    <tr>\n",
       "      <th>0</th>\n",
       "      <td>TCGA-05-4245</td>\n",
       "      <td>0</td>\n",
       "      <td>stage iiia</td>\n",
       "      <td>male</td>\n",
       "      <td>no</td>\n",
       "      <td>lung adenocarcinoma- not otherwise specified (...</td>\n",
       "      <td>NaN</td>\n",
       "    </tr>\n",
       "    <tr>\n",
       "      <th>1</th>\n",
       "      <td>TCGA-05-4382</td>\n",
       "      <td>0</td>\n",
       "      <td>stage ib</td>\n",
       "      <td>male</td>\n",
       "      <td>yes</td>\n",
       "      <td>lung adenocarcinoma mixed subtype</td>\n",
       "      <td>NaN</td>\n",
       "    </tr>\n",
       "    <tr>\n",
       "      <th>2</th>\n",
       "      <td>TCGA-05-4384</td>\n",
       "      <td>0</td>\n",
       "      <td>stage iiia</td>\n",
       "      <td>male</td>\n",
       "      <td>yes</td>\n",
       "      <td>lung adenocarcinoma mixed subtype</td>\n",
       "      <td>NaN</td>\n",
       "    </tr>\n",
       "    <tr>\n",
       "      <th>3</th>\n",
       "      <td>TCGA-05-4396</td>\n",
       "      <td>1</td>\n",
       "      <td>stage iiib</td>\n",
       "      <td>male</td>\n",
       "      <td>NaN</td>\n",
       "      <td>lung adenocarcinoma mixed subtype</td>\n",
       "      <td>NaN</td>\n",
       "    </tr>\n",
       "    <tr>\n",
       "      <th>4</th>\n",
       "      <td>TCGA-05-4402</td>\n",
       "      <td>1</td>\n",
       "      <td>stage iv</td>\n",
       "      <td>female</td>\n",
       "      <td>no</td>\n",
       "      <td>lung adenocarcinoma mixed subtype</td>\n",
       "      <td>NaN</td>\n",
       "    </tr>\n",
       "    <tr>\n",
       "      <th>...</th>\n",
       "      <td>...</td>\n",
       "      <td>...</td>\n",
       "      <td>...</td>\n",
       "      <td>...</td>\n",
       "      <td>...</td>\n",
       "      <td>...</td>\n",
       "      <td>...</td>\n",
       "    </tr>\n",
       "    <tr>\n",
       "      <th>517</th>\n",
       "      <td>TCGA-NJ-A55O</td>\n",
       "      <td>0</td>\n",
       "      <td>stage iia</td>\n",
       "      <td>female</td>\n",
       "      <td>no</td>\n",
       "      <td>mucinous (colloid) carcinoma</td>\n",
       "      <td>white</td>\n",
       "    </tr>\n",
       "    <tr>\n",
       "      <th>518</th>\n",
       "      <td>TCGA-NJ-A55R</td>\n",
       "      <td>0</td>\n",
       "      <td>stage ia</td>\n",
       "      <td>male</td>\n",
       "      <td>no</td>\n",
       "      <td>lung adenocarcinoma- not otherwise specified (...</td>\n",
       "      <td>white</td>\n",
       "    </tr>\n",
       "    <tr>\n",
       "      <th>519</th>\n",
       "      <td>TCGA-NJ-A7XG</td>\n",
       "      <td>0</td>\n",
       "      <td>stage iiia</td>\n",
       "      <td>male</td>\n",
       "      <td>no</td>\n",
       "      <td>lung adenocarcinoma- not otherwise specified (...</td>\n",
       "      <td>black or african american</td>\n",
       "    </tr>\n",
       "    <tr>\n",
       "      <th>520</th>\n",
       "      <td>TCGA-O1-A52J</td>\n",
       "      <td>1</td>\n",
       "      <td>stage ia</td>\n",
       "      <td>female</td>\n",
       "      <td>no</td>\n",
       "      <td>lung adenocarcinoma- not otherwise specified (...</td>\n",
       "      <td>white</td>\n",
       "    </tr>\n",
       "    <tr>\n",
       "      <th>521</th>\n",
       "      <td>TCGA-S2-AA1A</td>\n",
       "      <td>0</td>\n",
       "      <td>stage ia</td>\n",
       "      <td>female</td>\n",
       "      <td>no</td>\n",
       "      <td>lung bronchioloalveolar carcinoma mucinous</td>\n",
       "      <td>black or african american</td>\n",
       "    </tr>\n",
       "  </tbody>\n",
       "</table>\n",
       "<p>522 rows × 7 columns</p>\n",
       "</div>"
      ],
      "text/plain": [
       "        PatientID  vitalstatus pathologicstage  gender radiationtherapy  \\\n",
       "0    TCGA-05-4245            0      stage iiia    male               no   \n",
       "1    TCGA-05-4382            0        stage ib    male              yes   \n",
       "2    TCGA-05-4384            0      stage iiia    male              yes   \n",
       "3    TCGA-05-4396            1      stage iiib    male              NaN   \n",
       "4    TCGA-05-4402            1        stage iv  female               no   \n",
       "..            ...          ...             ...     ...              ...   \n",
       "517  TCGA-NJ-A55O            0       stage iia  female               no   \n",
       "518  TCGA-NJ-A55R            0        stage ia    male               no   \n",
       "519  TCGA-NJ-A7XG            0      stage iiia    male               no   \n",
       "520  TCGA-O1-A52J            1        stage ia  female               no   \n",
       "521  TCGA-S2-AA1A            0        stage ia  female               no   \n",
       "\n",
       "                                      histologicaltype  \\\n",
       "0    lung adenocarcinoma- not otherwise specified (...   \n",
       "1                    lung adenocarcinoma mixed subtype   \n",
       "2                    lung adenocarcinoma mixed subtype   \n",
       "3                    lung adenocarcinoma mixed subtype   \n",
       "4                    lung adenocarcinoma mixed subtype   \n",
       "..                                                 ...   \n",
       "517                       mucinous (colloid) carcinoma   \n",
       "518  lung adenocarcinoma- not otherwise specified (...   \n",
       "519  lung adenocarcinoma- not otherwise specified (...   \n",
       "520  lung adenocarcinoma- not otherwise specified (...   \n",
       "521         lung bronchioloalveolar carcinoma mucinous   \n",
       "\n",
       "                          race  \n",
       "0                          NaN  \n",
       "1                          NaN  \n",
       "2                          NaN  \n",
       "3                          NaN  \n",
       "4                          NaN  \n",
       "..                         ...  \n",
       "517                      white  \n",
       "518                      white  \n",
       "519  black or african american  \n",
       "520                      white  \n",
       "521  black or african american  \n",
       "\n",
       "[522 rows x 7 columns]"
      ]
     },
     "execution_count": 3,
     "metadata": {},
     "output_type": "execute_result"
    }
   ],
   "source": [
    "df"
   ]
  },
  {
   "cell_type": "code",
   "execution_count": 4,
   "metadata": {},
   "outputs": [
    {
     "data": {
      "text/plain": [
       "0    334\n",
       "1    188\n",
       "Name: vitalstatus, dtype: int64"
      ]
     },
     "execution_count": 4,
     "metadata": {},
     "output_type": "execute_result"
    }
   ],
   "source": [
    "df['vitalstatus'].value_counts()"
   ]
  },
  {
   "cell_type": "code",
   "execution_count": 5,
   "metadata": {},
   "outputs": [],
   "source": [
    "#KP = (df['vitalstatus'].values == 0).sum() #Pacjent przezyl"
   ]
  },
  {
   "cell_type": "code",
   "execution_count": 6,
   "metadata": {},
   "outputs": [
    {
     "data": {
      "text/plain": [
       "vitalstatus  pathologicstage\n",
       "0            stage ia           105\n",
       "             stage ib           101\n",
       "             stage iib           41\n",
       "             stage iiia          34\n",
       "             stage iia           29\n",
       "             stage iv            10\n",
       "             stage i              4\n",
       "             stage iiib           4\n",
       "1            stage iiia          40\n",
       "             stage ib            39\n",
       "             stage iib           32\n",
       "             stage ia            29\n",
       "             stage iia           21\n",
       "             stage iv            16\n",
       "             stage iiib           7\n",
       "             stage i              1\n",
       "             stage ii             1\n",
       "Name: pathologicstage, dtype: int64"
      ]
     },
     "execution_count": 6,
     "metadata": {},
     "output_type": "execute_result"
    }
   ],
   "source": [
    "df.groupby('vitalstatus')['pathologicstage'].value_counts()"
   ]
  },
  {
   "cell_type": "code",
   "execution_count": 7,
   "metadata": {},
   "outputs": [
    {
     "data": {
      "text/plain": [
       "vitalstatus  gender\n",
       "0            female    182\n",
       "             male      152\n",
       "1            female     98\n",
       "             male       90\n",
       "Name: gender, dtype: int64"
      ]
     },
     "execution_count": 7,
     "metadata": {},
     "output_type": "execute_result"
    }
   ],
   "source": [
    "df.groupby('vitalstatus')['gender'].value_counts()"
   ]
  },
  {
   "cell_type": "code",
   "execution_count": 8,
   "metadata": {},
   "outputs": [
    {
     "data": {
      "text/plain": [
       "vitalstatus  radiationtherapy\n",
       "0            no                  275\n",
       "             yes                  26\n",
       "1            no                  139\n",
       "             yes                  35\n",
       "Name: radiationtherapy, dtype: int64"
      ]
     },
     "execution_count": 8,
     "metadata": {},
     "output_type": "execute_result"
    }
   ],
   "source": [
    "df.groupby('vitalstatus')['radiationtherapy'].value_counts()"
   ]
  },
  {
   "cell_type": "code",
   "execution_count": 9,
   "metadata": {},
   "outputs": [
    {
     "data": {
      "text/plain": [
       "vitalstatus  histologicaltype                                  \n",
       "0            lung adenocarcinoma- not otherwise specified (nos)    194\n",
       "             lung adenocarcinoma mixed subtype                      71\n",
       "             lung acinar adenocarcinoma                             16\n",
       "             lung papillary adenocarcinoma                          16\n",
       "             lung bronchioloalveolar carcinoma nonmucinous          14\n",
       "             mucinous (colloid) carcinoma                            8\n",
       "             lung solid pattern predominant adenocarcinoma           5\n",
       "             lung bronchioloalveolar carcinoma mucinous              4\n",
       "             lung clear cell adenocarcinoma                          2\n",
       "             lung micropapillary adenocarcinoma                      2\n",
       "             lung mucinous adenocarcinoma                            2\n",
       "1            lung adenocarcinoma- not otherwise specified (nos)    133\n",
       "             lung adenocarcinoma mixed subtype                      36\n",
       "             lung papillary adenocarcinoma                           7\n",
       "             lung bronchioloalveolar carcinoma nonmucinous           5\n",
       "             lung acinar adenocarcinoma                              2\n",
       "             mucinous (colloid) carcinoma                            2\n",
       "             lung bronchioloalveolar carcinoma mucinous              1\n",
       "             lung micropapillary adenocarcinoma                      1\n",
       "             lung signet ring adenocarcinoma                         1\n",
       "Name: histologicaltype, dtype: int64"
      ]
     },
     "execution_count": 9,
     "metadata": {},
     "output_type": "execute_result"
    }
   ],
   "source": [
    "df.groupby('vitalstatus')['histologicaltype'].value_counts()"
   ]
  },
  {
   "cell_type": "code",
   "execution_count": 10,
   "metadata": {},
   "outputs": [
    {
     "data": {
      "text/plain": [
       "vitalstatus  race                            \n",
       "0            white                               248\n",
       "             black or african american            36\n",
       "             asian                                 7\n",
       "             american indian or alaska native      1\n",
       "1            white                               145\n",
       "             black or african american            17\n",
       "             asian                                 1\n",
       "Name: race, dtype: int64"
      ]
     },
     "execution_count": 10,
     "metadata": {},
     "output_type": "execute_result"
    }
   ],
   "source": [
    "df.groupby('vitalstatus')['race'].value_counts()"
   ]
  }
 ],
 "metadata": {
  "kernelspec": {
   "display_name": "Python 3",
   "language": "python",
   "name": "python3"
  },
  "language_info": {
   "codemirror_mode": {
    "name": "ipython",
    "version": 3
   },
   "file_extension": ".py",
   "mimetype": "text/x-python",
   "name": "python",
   "nbconvert_exporter": "python",
   "pygments_lexer": "ipython3",
   "version": "3.7.3"
  }
 },
 "nbformat": 4,
 "nbformat_minor": 2
}
